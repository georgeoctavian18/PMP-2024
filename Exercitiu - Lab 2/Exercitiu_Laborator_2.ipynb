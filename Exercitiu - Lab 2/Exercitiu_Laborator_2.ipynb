{
  "cells": [
    {
      "cell_type": "markdown",
      "metadata": {
        "id": "QnZwFI9jrn6w"
      },
      "source": [
        "### Subpunctul a)"
      ]
    },
    {
      "cell_type": "code",
      "execution_count": 14,
      "metadata": {
        "colab": {
          "base_uri": "https://localhost:8080/"
        },
        "id": "MmescgVhtl2N",
        "outputId": "36795886-931c-4c4f-95d3-eefbf8cbbfeb"
      },
      "outputs": [
        {
          "name": "stdout",
          "output_type": "stream",
          "text": [
            "Bila extrasă este: rosie\n"
          ]
        }
      ],
      "source": [
        "import random\n",
        "\n",
        "def simulate_game():\n",
        "    urna = ['rosie'] * 3 + ['albastra'] * 4 + ['neagra'] * 2\n",
        "\n",
        "    zar = random.randint(1, 6)\n",
        "\n",
        "    if zar in [2, 3, 5]:\n",
        "        urna.append('neagra')\n",
        "    elif zar == 6:\n",
        "        urna.append('rosie')\n",
        "    else:\n",
        "        urna.append('albastra')\n",
        "\n",
        "    bila_extrasa = random.choice(urna)\n",
        "\n",
        "    return bila_extrasa\n",
        "\n",
        "bila_extrasa = simulate_game()\n",
        "print(f'Bila extrasă este: {bila_extrasa}')"
      ]
    },
    {
      "cell_type": "markdown",
      "metadata": {
        "id": "9nz8vMjbtz4F"
      },
      "source": [
        "### Subpunctul b)"
      ]
    },
    {
      "cell_type": "code",
      "execution_count": 15,
      "metadata": {
        "colab": {
          "base_uri": "https://localhost:8080/"
        },
        "id": "5X44aaFwpmyX",
        "outputId": "04b63c36-8d34-40e4-e49c-307689fdb831"
      },
      "outputs": [
        {
          "name": "stdout",
          "output_type": "stream",
          "text": [
            "P(rosie) = 0.3189\n"
          ]
        }
      ],
      "source": [
        "def simulate_exp(num_sim):\n",
        "    nr_bile_rosii = 0\n",
        "\n",
        "    for _ in range(num_sim):\n",
        "        bila_extrasa = simulate_game()\n",
        "\n",
        "        if bila_extrasa == 'rosie':\n",
        "            nr_bile_rosii += 1\n",
        "\n",
        "    prob_estimata = nr_bile_rosii / num_sim\n",
        "    return prob_estimata\n",
        "\n",
        "prob_estimata_bila_rosie = simulate_exp(10000)\n",
        "print(f'P(rosie) = {prob_estimata_bila_rosie:.4f}')"
      ]
    },
    {
      "cell_type": "markdown",
      "metadata": {
        "id": "VVW8dSmzptQf"
      },
      "source": [
        "### Bonus\n",
        "\n",
        "Calculam probabilitatea teoretica a evenimentului si o comparam cu cea obtinuta mai sus.\n",
        "\n",
        "### 1. Urna inițială:\n",
        "\n",
        "$$\n",
        "\\text{Total bile inițiale} = 3 \\, (\\text{roșii}) + 4 \\, (\\text{albastre}) + 2 \\, (\\text{negre}) = 9 \\, \\text{bile}\n",
        "$$\n",
        "\n",
        "### 2. Evenimentele posibile la aruncarea zarului:\n",
        "- Dacă aruncăm un **număr prim** (2, 3, 5), adăugăm o **bilă neagră** în urnă.\n",
        "- Dacă aruncăm un **6**, adăugăm o **bilă roșie** în urnă.\n",
        "- În alte cazuri (1 și 4), adăugăm o **bilă albastră**.\n",
        "\n",
        "### 3. Cazul 1: Obtinem un numar prim\n",
        "- Adăugăm o bilă neagră în urnă. Urna va conține:\n",
        "$$\n",
        "3 \\, (\\text{roșii}) + 4 \\, (\\text{albastre}) + 3 \\, (\\text{negre}) = 10 \\, \\text{bile}\n",
        "$$\n",
        "- Probabilitatea de a extrage o bilă roșie după această modificare:\n",
        "$$\n",
        "P(\\text{roșie | număr prim}) = \\frac{3}{10}\n",
        "$$\n",
        "- Probabilitatea de a obține un număr prim la aruncarea zarului este:\n",
        "$$\n",
        "P(\\text{număr prim}) = \\frac{3}{6}\n",
        "$$\n",
        "\n",
        "### 4. Cazul 2: Obtinem 6\n",
        "- Adăugăm o bilă roșie în urnă. Urna va conține:\n",
        "$$\n",
        "4 \\, (\\text{roșii}) + 4 \\, (\\text{albastre}) + 2 \\, (\\text{negre}) = 10 \\, \\text{bile}\n",
        "$$\n",
        "- Probabilitatea de a extrage o bilă roșie după această modificare:\n",
        "$$\n",
        "P(\\text{roșie | 6}) = \\frac{4}{10}\n",
        "$$\n",
        "- Probabilitatea de a obține un 6 la aruncarea zarului este:\n",
        "$$\n",
        "P(\\text{6}) = \\frac{1}{6}\n",
        "$$\n",
        "\n",
        "### 5. Cazul 3: Obtinem 1 sau 4 (restul cazurilor)\n",
        "- Adăugăm o bilă albastră în urnă. Urna va conține:\n",
        "$$\n",
        "3 \\, (\\text{roșii}) + 5 \\, (\\text{albastre}) + 2 \\, (\\text{negre}) = 10 \\, \\text{bile}\n",
        "$$\n",
        "- Probabilitatea de a extrage o bilă roșie după această modificare:\n",
        "$$\n",
        "P(\\text{roșie | 1 sau 4}) = \\frac{3}{10}\n",
        "$$\n",
        "- Probabilitatea de a obține 1 sau 4 la aruncarea zarului este:\n",
        "$$\n",
        "P(\\text{1 sau 4}) = \\frac{2}{6}\n",
        "$$\n",
        "\n",
        "### 6. Probabilitatea totală teoretică\n",
        "Probabilitatea totală teoretică de a extrage o bilă roșie este suma ponderată a probabilităților din cele 3 cazuri:\n",
        "$$\n",
        "P(\\text{roșie}) = P(\\text{roșie | număr prim}) \\cdot P(\\text{număr prim}) + P(\\text{roșie | 6}) \\cdot P(\\text{6}) + P(\\text{roșie | 1 sau 4}) \\cdot P(\\text{1 sau 4}) = \\frac{3}{10} \\cdot \\frac{3}{6} + \\frac{4}{10} \\cdot \\frac{1}{6} + \\frac{3}{10} \\cdot \\frac{2}{6} = \\frac{19}{60} = 0.3166\n",
        "$$\n",
        "\n",
        "Probabilitatea calculata anterior experimental:\n",
        "$$\n",
        "P(\\text{roșie}) = 0.3189\n",
        "$$\n"
      ]
    },
    {
      "cell_type": "code",
      "execution_count": null,
      "metadata": {
        "id": "E9LSPF-ep1mX"
      },
      "outputs": [],
      "source": []
    }
  ],
  "metadata": {
    "colab": {
      "provenance": []
    },
    "kernelspec": {
      "display_name": "Python 3",
      "name": "python3"
    },
    "language_info": {
      "name": "python"
    }
  },
  "nbformat": 4,
  "nbformat_minor": 0
}
