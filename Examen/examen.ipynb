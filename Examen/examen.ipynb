{
  "nbformat": 4,
  "nbformat_minor": 0,
  "metadata": {
    "colab": {
      "provenance": []
    },
    "kernelspec": {
      "name": "python3",
      "display_name": "Python 3"
    },
    "language_info": {
      "name": "python"
    },
    "widgets": {
      "application/vnd.jupyter.widget-state+json": {
        "01a9e86e3fa142e8adf87d9a877c3830": {
          "model_module": "@jupyter-widgets/output",
          "model_name": "OutputModel",
          "model_module_version": "1.0.0",
          "state": {
            "_dom_classes": [],
            "_model_module": "@jupyter-widgets/output",
            "_model_module_version": "1.0.0",
            "_model_name": "OutputModel",
            "_view_count": null,
            "_view_module": "@jupyter-widgets/output",
            "_view_module_version": "1.0.0",
            "_view_name": "OutputView",
            "layout": "IPY_MODEL_75f1f1cfaf8a44f1b7a24a6f1eb728bb",
            "msg_id": "",
            "outputs": [
              {
                "output_type": "display_data",
                "data": {
                  "text/plain": "Sampling chain 0, 0 divergences \u001b[32m━━━━━━━━━━━━━━━━━━━━━━━━━━━━━━━━━━━━━━━━\u001b[0m \u001b[35m100%\u001b[0m \u001b[36m0:00:00\u001b[0m / \u001b[33m0:00:04\u001b[0m\n",
                  "text/html": "<pre style=\"white-space:pre;overflow-x:auto;line-height:normal;font-family:Menlo,'DejaVu Sans Mono',consolas,'Courier New',monospace\">Sampling chain 0, 0 divergences <span style=\"color: #008000; text-decoration-color: #008000\">━━━━━━━━━━━━━━━━━━━━━━━━━━━━━━━━━━━━━━━━</span> <span style=\"color: #800080; text-decoration-color: #800080\">100%</span> <span style=\"color: #008080; text-decoration-color: #008080\">0:00:00</span> / <span style=\"color: #808000; text-decoration-color: #808000\">0:00:04</span>\n</pre>\n"
                },
                "metadata": {}
              }
            ]
          }
        },
        "75f1f1cfaf8a44f1b7a24a6f1eb728bb": {
          "model_module": "@jupyter-widgets/base",
          "model_name": "LayoutModel",
          "model_module_version": "1.2.0",
          "state": {
            "_model_module": "@jupyter-widgets/base",
            "_model_module_version": "1.2.0",
            "_model_name": "LayoutModel",
            "_view_count": null,
            "_view_module": "@jupyter-widgets/base",
            "_view_module_version": "1.2.0",
            "_view_name": "LayoutView",
            "align_content": null,
            "align_items": null,
            "align_self": null,
            "border": null,
            "bottom": null,
            "display": null,
            "flex": null,
            "flex_flow": null,
            "grid_area": null,
            "grid_auto_columns": null,
            "grid_auto_flow": null,
            "grid_auto_rows": null,
            "grid_column": null,
            "grid_gap": null,
            "grid_row": null,
            "grid_template_areas": null,
            "grid_template_columns": null,
            "grid_template_rows": null,
            "height": null,
            "justify_content": null,
            "justify_items": null,
            "left": null,
            "margin": null,
            "max_height": null,
            "max_width": null,
            "min_height": null,
            "min_width": null,
            "object_fit": null,
            "object_position": null,
            "order": null,
            "overflow": null,
            "overflow_x": null,
            "overflow_y": null,
            "padding": null,
            "right": null,
            "top": null,
            "visibility": null,
            "width": null
          }
        },
        "79798a72d7db4f328275cc9706154b95": {
          "model_module": "@jupyter-widgets/output",
          "model_name": "OutputModel",
          "model_module_version": "1.0.0",
          "state": {
            "_dom_classes": [],
            "_model_module": "@jupyter-widgets/output",
            "_model_module_version": "1.0.0",
            "_model_name": "OutputModel",
            "_view_count": null,
            "_view_module": "@jupyter-widgets/output",
            "_view_module_version": "1.0.0",
            "_view_name": "OutputView",
            "layout": "IPY_MODEL_12634ebc04ad48dea24bfb40c8dcc523",
            "msg_id": "",
            "outputs": [
              {
                "output_type": "display_data",
                "data": {
                  "text/plain": "Sampling chain 1, 0 divergences \u001b[32m━━━━━━━━━━━━━━━━━━━━━━━━━━━━━━━━━━━━━━━━\u001b[0m \u001b[35m100%\u001b[0m \u001b[36m0:00:00\u001b[0m / \u001b[33m0:00:03\u001b[0m\n",
                  "text/html": "<pre style=\"white-space:pre;overflow-x:auto;line-height:normal;font-family:Menlo,'DejaVu Sans Mono',consolas,'Courier New',monospace\">Sampling chain 1, 0 divergences <span style=\"color: #008000; text-decoration-color: #008000\">━━━━━━━━━━━━━━━━━━━━━━━━━━━━━━━━━━━━━━━━</span> <span style=\"color: #800080; text-decoration-color: #800080\">100%</span> <span style=\"color: #008080; text-decoration-color: #008080\">0:00:00</span> / <span style=\"color: #808000; text-decoration-color: #808000\">0:00:03</span>\n</pre>\n"
                },
                "metadata": {}
              }
            ]
          }
        },
        "12634ebc04ad48dea24bfb40c8dcc523": {
          "model_module": "@jupyter-widgets/base",
          "model_name": "LayoutModel",
          "model_module_version": "1.2.0",
          "state": {
            "_model_module": "@jupyter-widgets/base",
            "_model_module_version": "1.2.0",
            "_model_name": "LayoutModel",
            "_view_count": null,
            "_view_module": "@jupyter-widgets/base",
            "_view_module_version": "1.2.0",
            "_view_name": "LayoutView",
            "align_content": null,
            "align_items": null,
            "align_self": null,
            "border": null,
            "bottom": null,
            "display": null,
            "flex": null,
            "flex_flow": null,
            "grid_area": null,
            "grid_auto_columns": null,
            "grid_auto_flow": null,
            "grid_auto_rows": null,
            "grid_column": null,
            "grid_gap": null,
            "grid_row": null,
            "grid_template_areas": null,
            "grid_template_columns": null,
            "grid_template_rows": null,
            "height": null,
            "justify_content": null,
            "justify_items": null,
            "left": null,
            "margin": null,
            "max_height": null,
            "max_width": null,
            "min_height": null,
            "min_width": null,
            "object_fit": null,
            "object_position": null,
            "order": null,
            "overflow": null,
            "overflow_x": null,
            "overflow_y": null,
            "padding": null,
            "right": null,
            "top": null,
            "visibility": null,
            "width": null
          }
        },
        "6285136dfed54df1a7194726bf512cac": {
          "model_module": "@jupyter-widgets/output",
          "model_name": "OutputModel",
          "model_module_version": "1.0.0",
          "state": {
            "_dom_classes": [],
            "_model_module": "@jupyter-widgets/output",
            "_model_module_version": "1.0.0",
            "_model_name": "OutputModel",
            "_view_count": null,
            "_view_module": "@jupyter-widgets/output",
            "_view_module_version": "1.0.0",
            "_view_name": "OutputView",
            "layout": "IPY_MODEL_64203daad3f34a47819e675eae8e3f20",
            "msg_id": "",
            "outputs": [
              {
                "output_type": "display_data",
                "data": {
                  "text/plain": "Sampling chain 0, 0 divergences \u001b[32m━━━━━━━━━━━━━━━━━━━━━━━━━━━━━━━━━━━━━━━━\u001b[0m \u001b[35m100%\u001b[0m \u001b[36m0:00:00\u001b[0m / \u001b[33m0:00:02\u001b[0m\n",
                  "text/html": "<pre style=\"white-space:pre;overflow-x:auto;line-height:normal;font-family:Menlo,'DejaVu Sans Mono',consolas,'Courier New',monospace\">Sampling chain 0, 0 divergences <span style=\"color: #008000; text-decoration-color: #008000\">━━━━━━━━━━━━━━━━━━━━━━━━━━━━━━━━━━━━━━━━</span> <span style=\"color: #800080; text-decoration-color: #800080\">100%</span> <span style=\"color: #008080; text-decoration-color: #008080\">0:00:00</span> / <span style=\"color: #808000; text-decoration-color: #808000\">0:00:02</span>\n</pre>\n"
                },
                "metadata": {}
              }
            ]
          }
        },
        "64203daad3f34a47819e675eae8e3f20": {
          "model_module": "@jupyter-widgets/base",
          "model_name": "LayoutModel",
          "model_module_version": "1.2.0",
          "state": {
            "_model_module": "@jupyter-widgets/base",
            "_model_module_version": "1.2.0",
            "_model_name": "LayoutModel",
            "_view_count": null,
            "_view_module": "@jupyter-widgets/base",
            "_view_module_version": "1.2.0",
            "_view_name": "LayoutView",
            "align_content": null,
            "align_items": null,
            "align_self": null,
            "border": null,
            "bottom": null,
            "display": null,
            "flex": null,
            "flex_flow": null,
            "grid_area": null,
            "grid_auto_columns": null,
            "grid_auto_flow": null,
            "grid_auto_rows": null,
            "grid_column": null,
            "grid_gap": null,
            "grid_row": null,
            "grid_template_areas": null,
            "grid_template_columns": null,
            "grid_template_rows": null,
            "height": null,
            "justify_content": null,
            "justify_items": null,
            "left": null,
            "margin": null,
            "max_height": null,
            "max_width": null,
            "min_height": null,
            "min_width": null,
            "object_fit": null,
            "object_position": null,
            "order": null,
            "overflow": null,
            "overflow_x": null,
            "overflow_y": null,
            "padding": null,
            "right": null,
            "top": null,
            "visibility": null,
            "width": null
          }
        },
        "2daa4675d194469c9218be0e50b4237f": {
          "model_module": "@jupyter-widgets/output",
          "model_name": "OutputModel",
          "model_module_version": "1.0.0",
          "state": {
            "_dom_classes": [],
            "_model_module": "@jupyter-widgets/output",
            "_model_module_version": "1.0.0",
            "_model_name": "OutputModel",
            "_view_count": null,
            "_view_module": "@jupyter-widgets/output",
            "_view_module_version": "1.0.0",
            "_view_name": "OutputView",
            "layout": "IPY_MODEL_377bc35b2fab416aa3a1f89b16a24d09",
            "msg_id": "",
            "outputs": [
              {
                "output_type": "display_data",
                "data": {
                  "text/plain": "Sampling chain 1, 0 divergences \u001b[32m━━━━━━━━━━━━━━━━━━━━━━━━━━━━━━━━━━━━━━━━\u001b[0m \u001b[35m100%\u001b[0m \u001b[36m0:00:00\u001b[0m / \u001b[33m0:00:02\u001b[0m\n",
                  "text/html": "<pre style=\"white-space:pre;overflow-x:auto;line-height:normal;font-family:Menlo,'DejaVu Sans Mono',consolas,'Courier New',monospace\">Sampling chain 1, 0 divergences <span style=\"color: #008000; text-decoration-color: #008000\">━━━━━━━━━━━━━━━━━━━━━━━━━━━━━━━━━━━━━━━━</span> <span style=\"color: #800080; text-decoration-color: #800080\">100%</span> <span style=\"color: #008080; text-decoration-color: #008080\">0:00:00</span> / <span style=\"color: #808000; text-decoration-color: #808000\">0:00:02</span>\n</pre>\n"
                },
                "metadata": {}
              }
            ]
          }
        },
        "377bc35b2fab416aa3a1f89b16a24d09": {
          "model_module": "@jupyter-widgets/base",
          "model_name": "LayoutModel",
          "model_module_version": "1.2.0",
          "state": {
            "_model_module": "@jupyter-widgets/base",
            "_model_module_version": "1.2.0",
            "_model_name": "LayoutModel",
            "_view_count": null,
            "_view_module": "@jupyter-widgets/base",
            "_view_module_version": "1.2.0",
            "_view_name": "LayoutView",
            "align_content": null,
            "align_items": null,
            "align_self": null,
            "border": null,
            "bottom": null,
            "display": null,
            "flex": null,
            "flex_flow": null,
            "grid_area": null,
            "grid_auto_columns": null,
            "grid_auto_flow": null,
            "grid_auto_rows": null,
            "grid_column": null,
            "grid_gap": null,
            "grid_row": null,
            "grid_template_areas": null,
            "grid_template_columns": null,
            "grid_template_rows": null,
            "height": null,
            "justify_content": null,
            "justify_items": null,
            "left": null,
            "margin": null,
            "max_height": null,
            "max_width": null,
            "min_height": null,
            "min_width": null,
            "object_fit": null,
            "object_position": null,
            "order": null,
            "overflow": null,
            "overflow_x": null,
            "overflow_y": null,
            "padding": null,
            "right": null,
            "top": null,
            "visibility": null,
            "width": null
          }
        },
        "0f9037f52c2d4381a4657dd26b90a1aa": {
          "model_module": "@jupyter-widgets/output",
          "model_name": "OutputModel",
          "model_module_version": "1.0.0",
          "state": {
            "_dom_classes": [],
            "_model_module": "@jupyter-widgets/output",
            "_model_module_version": "1.0.0",
            "_model_name": "OutputModel",
            "_view_count": null,
            "_view_module": "@jupyter-widgets/output",
            "_view_module_version": "1.0.0",
            "_view_name": "OutputView",
            "layout": "IPY_MODEL_75b79fde55214777bf49dd1afc018244",
            "msg_id": "",
            "outputs": [
              {
                "output_type": "display_data",
                "data": {
                  "text/plain": "Sampling chain 0, 472 divergences \u001b[32m━━━━━━━━━━━━━━━━━━━━━━━━━━━━━━━━━━━━━━━━\u001b[0m \u001b[35m100%\u001b[0m \u001b[36m0:00:00\u001b[0m / \u001b[33m0:01:52\u001b[0m\n",
                  "text/html": "<pre style=\"white-space:pre;overflow-x:auto;line-height:normal;font-family:Menlo,'DejaVu Sans Mono',consolas,'Courier New',monospace\">Sampling chain 0, 472 divergences <span style=\"color: #008000; text-decoration-color: #008000\">━━━━━━━━━━━━━━━━━━━━━━━━━━━━━━━━━━━━━━━━</span> <span style=\"color: #800080; text-decoration-color: #800080\">100%</span> <span style=\"color: #008080; text-decoration-color: #008080\">0:00:00</span> / <span style=\"color: #808000; text-decoration-color: #808000\">0:01:52</span>\n</pre>\n"
                },
                "metadata": {}
              }
            ]
          }
        },
        "75b79fde55214777bf49dd1afc018244": {
          "model_module": "@jupyter-widgets/base",
          "model_name": "LayoutModel",
          "model_module_version": "1.2.0",
          "state": {
            "_model_module": "@jupyter-widgets/base",
            "_model_module_version": "1.2.0",
            "_model_name": "LayoutModel",
            "_view_count": null,
            "_view_module": "@jupyter-widgets/base",
            "_view_module_version": "1.2.0",
            "_view_name": "LayoutView",
            "align_content": null,
            "align_items": null,
            "align_self": null,
            "border": null,
            "bottom": null,
            "display": null,
            "flex": null,
            "flex_flow": null,
            "grid_area": null,
            "grid_auto_columns": null,
            "grid_auto_flow": null,
            "grid_auto_rows": null,
            "grid_column": null,
            "grid_gap": null,
            "grid_row": null,
            "grid_template_areas": null,
            "grid_template_columns": null,
            "grid_template_rows": null,
            "height": null,
            "justify_content": null,
            "justify_items": null,
            "left": null,
            "margin": null,
            "max_height": null,
            "max_width": null,
            "min_height": null,
            "min_width": null,
            "object_fit": null,
            "object_position": null,
            "order": null,
            "overflow": null,
            "overflow_x": null,
            "overflow_y": null,
            "padding": null,
            "right": null,
            "top": null,
            "visibility": null,
            "width": null
          }
        },
        "afe61f87871e49d8be8215c7923715b8": {
          "model_module": "@jupyter-widgets/output",
          "model_name": "OutputModel",
          "model_module_version": "1.0.0",
          "state": {
            "_dom_classes": [],
            "_model_module": "@jupyter-widgets/output",
            "_model_module_version": "1.0.0",
            "_model_name": "OutputModel",
            "_view_count": null,
            "_view_module": "@jupyter-widgets/output",
            "_view_module_version": "1.0.0",
            "_view_name": "OutputView",
            "layout": "IPY_MODEL_96d0b68f90b945d2ad6e697a74b80401",
            "msg_id": "",
            "outputs": [
              {
                "output_type": "display_data",
                "data": {
                  "text/plain": "Sampling chain 1, 0 divergences \u001b[32m━━━━━━━━━━━━━━━━━━━━━━━━━━━━━━━━━━━━━━━━\u001b[0m \u001b[35m100%\u001b[0m \u001b[36m0:00:00\u001b[0m / \u001b[33m0:00:34\u001b[0m\n",
                  "text/html": "<pre style=\"white-space:pre;overflow-x:auto;line-height:normal;font-family:Menlo,'DejaVu Sans Mono',consolas,'Courier New',monospace\">Sampling chain 1, 0 divergences <span style=\"color: #008000; text-decoration-color: #008000\">━━━━━━━━━━━━━━━━━━━━━━━━━━━━━━━━━━━━━━━━</span> <span style=\"color: #800080; text-decoration-color: #800080\">100%</span> <span style=\"color: #008080; text-decoration-color: #008080\">0:00:00</span> / <span style=\"color: #808000; text-decoration-color: #808000\">0:00:34</span>\n</pre>\n"
                },
                "metadata": {}
              }
            ]
          }
        },
        "96d0b68f90b945d2ad6e697a74b80401": {
          "model_module": "@jupyter-widgets/base",
          "model_name": "LayoutModel",
          "model_module_version": "1.2.0",
          "state": {
            "_model_module": "@jupyter-widgets/base",
            "_model_module_version": "1.2.0",
            "_model_name": "LayoutModel",
            "_view_count": null,
            "_view_module": "@jupyter-widgets/base",
            "_view_module_version": "1.2.0",
            "_view_name": "LayoutView",
            "align_content": null,
            "align_items": null,
            "align_self": null,
            "border": null,
            "bottom": null,
            "display": null,
            "flex": null,
            "flex_flow": null,
            "grid_area": null,
            "grid_auto_columns": null,
            "grid_auto_flow": null,
            "grid_auto_rows": null,
            "grid_column": null,
            "grid_gap": null,
            "grid_row": null,
            "grid_template_areas": null,
            "grid_template_columns": null,
            "grid_template_rows": null,
            "height": null,
            "justify_content": null,
            "justify_items": null,
            "left": null,
            "margin": null,
            "max_height": null,
            "max_width": null,
            "min_height": null,
            "min_width": null,
            "object_fit": null,
            "object_position": null,
            "order": null,
            "overflow": null,
            "overflow_x": null,
            "overflow_y": null,
            "padding": null,
            "right": null,
            "top": null,
            "visibility": null,
            "width": null
          }
        }
      }
    }
  },
  "cells": [
    {
      "cell_type": "code",
      "execution_count": 1,
      "metadata": {
        "id": "t-Y_D1HKpVtp"
      },
      "outputs": [],
      "source": [
        "import pymc as pm\n",
        "import arviz as az\n",
        "import pandas as pd\n",
        "import matplotlib.pyplot as plt\n",
        "import numpy as np"
      ]
    },
    {
      "cell_type": "markdown",
      "source": [
        "### 1."
      ],
      "metadata": {
        "id": "TOn17ecTqIBh"
      }
    },
    {
      "cell_type": "code",
      "source": [
        "# a)\n",
        "file_path = \"date_alegeri_turul2.csv\"\n",
        "data = pd.read_csv(file_path)\n",
        "\n",
        "data[\"Varsta\"] = (data[\"Varsta\"] - data[\"Varsta\"].mean()) / data[\"Varsta\"].std()\n",
        "data[\"Sex\"] = (data[\"Sex\"] - data[\"Sex\"].mean()) / data[\"Sex\"].std()\n",
        "data[\"Educatie\"] = (data[\"Educatie\"] - data[\"Educatie\"].mean()) / data[\"Educatie\"].std()\n",
        "data[\"Venit\"] = (data[\"Venit\"] - data[\"Venit\"].mean()) / data[\"Venit\"].std()\n",
        "\n",
        "with pm.Model() as logistic_model:\n",
        "    intercept = pm.Normal(\"intercept\", mu=0, sigma=10)\n",
        "    beta_varsta = pm.Normal(\"beta_varsta\", mu=0, sigma=10)\n",
        "    beta_sex = pm.Normal(\"beta_sex\", mu=0, sigma=10)\n",
        "    beta_educatie = pm.Normal(\"beta_educatie\", mu=0, sigma=10)\n",
        "    beta_venit = pm.Normal(\"beta_venit\", mu=0, sigma=10)\n",
        "\n",
        "    logit_p = (\n",
        "        intercept\n",
        "        + beta_varsta * data[\"Varsta\"]\n",
        "        + beta_sex * data[\"Sex\"]\n",
        "        + beta_educatie * data[\"Educatie\"]\n",
        "        + beta_venit * data[\"Venit\"]\n",
        "    )\n",
        "\n",
        "    p = pm.Deterministic(\"p\", pm.math.sigmoid(logit_p))\n",
        "    vot_obs = pm.Bernoulli(\"vot_obs\", p=p, observed=data[\"Vot\"])\n",
        "\n",
        "    trace = pm.sample(2000, tune=1000, return_inferencedata=True)"
      ],
      "metadata": {
        "colab": {
          "base_uri": "https://localhost:8080/",
          "height": 49,
          "referenced_widgets": [
            "01a9e86e3fa142e8adf87d9a877c3830",
            "75f1f1cfaf8a44f1b7a24a6f1eb728bb",
            "79798a72d7db4f328275cc9706154b95",
            "12634ebc04ad48dea24bfb40c8dcc523"
          ]
        },
        "id": "mTn_1618qJrX",
        "outputId": "642ebd66-81ac-4fd3-daea-a8715c743786"
      },
      "execution_count": 31,
      "outputs": [
        {
          "output_type": "display_data",
          "data": {
            "text/plain": [
              "Output()"
            ],
            "application/vnd.jupyter.widget-view+json": {
              "version_major": 2,
              "version_minor": 0,
              "model_id": "01a9e86e3fa142e8adf87d9a877c3830"
            }
          },
          "metadata": {}
        },
        {
          "output_type": "display_data",
          "data": {
            "text/plain": [],
            "text/html": [
              "<pre style=\"white-space:pre;overflow-x:auto;line-height:normal;font-family:Menlo,'DejaVu Sans Mono',consolas,'Courier New',monospace\"></pre>\n"
            ]
          },
          "metadata": {}
        },
        {
          "output_type": "display_data",
          "data": {
            "text/plain": [
              "Output()"
            ],
            "application/vnd.jupyter.widget-view+json": {
              "version_major": 2,
              "version_minor": 0,
              "model_id": "79798a72d7db4f328275cc9706154b95"
            }
          },
          "metadata": {}
        },
        {
          "output_type": "display_data",
          "data": {
            "text/plain": [],
            "text/html": [
              "<pre style=\"white-space:pre;overflow-x:auto;line-height:normal;font-family:Menlo,'DejaVu Sans Mono',consolas,'Courier New',monospace\"></pre>\n"
            ]
          },
          "metadata": {}
        }
      ]
    },
    {
      "cell_type": "code",
      "source": [
        "# b)\n",
        "summary = az.summary(trace, hdi_prob=0.95)\n",
        "\n",
        "print(summary[[\"mean\", \"hdi_2.5%\", \"hdi_97.5%\"]])\n",
        "\n",
        "# Venitul (beta_venit = 1.011) – datorită coef. ridicat, venitul are cel mai mare efect pozitiv asupra prob. de a vota pentru candidatul A.\n",
        "# Un venit mai mare creste semnificativ prob. ca o persoană să voteze pentru candidatul A.\n",
        "\n",
        "# Educatia (beta_educatie = 0.487) – deși coef. este mai mic decât cel al venitului, educația are un efect vizibil asupra prob. de a vota pentru candidatul A.\n",
        "# Persoanele cu un nivel mai ridicat de educatie sunt mai predispuse să voteze pentru candidatul A."
      ],
      "metadata": {
        "colab": {
          "base_uri": "https://localhost:8080/"
        },
        "id": "BU7SdPQz2Irb",
        "outputId": "d1c6c163-f30c-4b28-c462-df6ccdf25479"
      },
      "execution_count": 13,
      "outputs": [
        {
          "output_type": "stream",
          "name": "stdout",
          "text": [
            "                mean  hdi_2.5%  hdi_97.5%\n",
            "beta_educatie  0.491     0.233      0.737\n",
            "beta_sex      -0.426    -0.669     -0.173\n",
            "beta_varsta    0.292     0.028      0.532\n",
            "beta_venit     1.011     0.719      1.288\n",
            "intercept      1.741     1.460      2.027\n",
            "...              ...       ...        ...\n",
            "p[495]         0.981     0.966      0.992\n",
            "p[496]         0.681     0.573      0.780\n",
            "p[497]         0.887     0.844      0.924\n",
            "p[498]         0.878     0.817      0.936\n",
            "p[499]         0.949     0.913      0.978\n",
            "\n",
            "[505 rows x 3 columns]\n"
          ]
        }
      ]
    },
    {
      "cell_type": "code",
      "source": [
        "data[\"Educatie\"] = (data[\"Educatie\"] - data[\"Educatie\"].mean()) / data[\"Educatie\"].std()\n",
        "data[\"Venit\"] = (data[\"Venit\"] - data[\"Venit\"].mean()) / data[\"Venit\"].std()\n",
        "\n",
        "with pm.Model() as reduced_model:\n",
        "    intercept = pm.Normal(\"intercept\", mu=0, sigma=10)\n",
        "    beta_educatie = pm.Normal(\"beta_educatie\", mu=0, sigma=10)\n",
        "    beta_venit = pm.Normal(\"beta_venit\", mu=0, sigma=10)\n",
        "\n",
        "    logit_p = (\n",
        "        intercept\n",
        "        + beta_educatie * data[\"Educatie\"]\n",
        "        + beta_venit * data[\"Venit\"]\n",
        "    )\n",
        "    p = pm.Deterministic(\"p\", pm.math.sigmoid(logit_p))\n",
        "    vot_obs = pm.Bernoulli(\"vot_obs\", p=p, observed=data[\"Vot\"])\n",
        "\n",
        "    trace_reduced = pm.sample(2000, tune=1000, return_inferencedata=True)\n",
        "\n",
        "educatie_vals = np.linspace(data[\"Educatie\"].min(), data[\"Educatie\"].max(), 100)\n",
        "venit_vals = np.linspace(data[\"Venit\"].min(), data[\"Venit\"].max(), 100)\n",
        "educatie_grid, venit_grid = np.meshgrid(educatie_vals, venit_vals)\n",
        "grid = np.column_stack([educatie_grid.ravel(), venit_grid.ravel()])\n",
        "\n",
        "with reduced_model:\n",
        "    prob_grid = (\n",
        "        trace_reduced.posterior[\"intercept\"].mean().item()\n",
        "        + trace_reduced.posterior[\"beta_educatie\"].mean().item() * grid[:, 0]\n",
        "        + trace_reduced.posterior[\"beta_venit\"].mean().item() * grid[:, 1]\n",
        "    )\n",
        "    prob_grid = pm.math.sigmoid(prob_grid).eval()\n",
        "\n",
        "prob_grid = prob_grid.reshape(educatie_grid.shape)\n",
        "\n",
        "lower_hdi = np.percentile(prob_grid, 3, axis=0)\n",
        "upper_hdi = np.percentile(prob_grid, 97, axis=0)\n",
        "\n",
        "plt.figure(figsize=(10, 6))\n",
        "\n",
        "plt.contourf(\n",
        "    educatie_grid,\n",
        "    venit_grid,\n",
        "    prob_grid,\n",
        "    levels=np.linspace(0, 1, 11),\n",
        "    cmap=\"RdBu_r\",\n",
        "    alpha=0.7\n",
        ")\n",
        "plt.colorbar(label=\"Probabilitate de vot pentru candidatul A\")\n",
        "\n",
        "plt.contour(\n",
        "    educatie_grid,\n",
        "    venit_grid,\n",
        "    prob_grid,\n",
        "    levels=[0.5],\n",
        "    colors=\"black\",\n",
        "    linewidths=1.5,\n",
        "    linestyles=\"--\",\n",
        "    label=\"Granița de decizie (p=0.5)\"\n",
        ")\n",
        "\n",
        "plt.fill_between(\n",
        "    educatie_vals,\n",
        "    lower_hdi,\n",
        "    upper_hdi,\n",
        "    color=\"gray\",\n",
        "    alpha=0.3,\n",
        "    label=\"HDI 94%\"\n",
        ")\n",
        "\n",
        "plt.xlabel(\"Educatie Norm.\")\n",
        "plt.ylabel(\"Venit Norm.\")\n",
        "plt.title(\"Granița de decizie și HDI (94%)\")\n",
        "plt.legend()\n",
        "plt.tight_layout()\n",
        "plt.show()"
      ],
      "metadata": {
        "colab": {
          "base_uri": "https://localhost:8080/",
          "height": 674,
          "referenced_widgets": [
            "6285136dfed54df1a7194726bf512cac",
            "64203daad3f34a47819e675eae8e3f20",
            "2daa4675d194469c9218be0e50b4237f",
            "377bc35b2fab416aa3a1f89b16a24d09"
          ]
        },
        "id": "_412ndwKDmUJ",
        "outputId": "02ab522a-84f5-4280-e7ea-8dc07254b010"
      },
      "execution_count": 36,
      "outputs": [
        {
          "output_type": "display_data",
          "data": {
            "text/plain": [
              "Output()"
            ],
            "application/vnd.jupyter.widget-view+json": {
              "version_major": 2,
              "version_minor": 0,
              "model_id": "6285136dfed54df1a7194726bf512cac"
            }
          },
          "metadata": {}
        },
        {
          "output_type": "display_data",
          "data": {
            "text/plain": [],
            "text/html": [
              "<pre style=\"white-space:pre;overflow-x:auto;line-height:normal;font-family:Menlo,'DejaVu Sans Mono',consolas,'Courier New',monospace\"></pre>\n"
            ]
          },
          "metadata": {}
        },
        {
          "output_type": "display_data",
          "data": {
            "text/plain": [
              "Output()"
            ],
            "application/vnd.jupyter.widget-view+json": {
              "version_major": 2,
              "version_minor": 0,
              "model_id": "2daa4675d194469c9218be0e50b4237f"
            }
          },
          "metadata": {}
        },
        {
          "output_type": "display_data",
          "data": {
            "text/plain": [],
            "text/html": [
              "<pre style=\"white-space:pre;overflow-x:auto;line-height:normal;font-family:Menlo,'DejaVu Sans Mono',consolas,'Courier New',monospace\"></pre>\n"
            ]
          },
          "metadata": {}
        },
        {
          "output_type": "stream",
          "name": "stderr",
          "text": [
            "<ipython-input-36-88bfb2552f20>:57: UserWarning: The following kwargs were not used by contour: 'label'\n",
            "  plt.contour(\n"
          ]
        },
        {
          "output_type": "display_data",
          "data": {
            "text/plain": [
              "<Figure size 1000x600 with 2 Axes>"
            ],
            "image/png": "[encoded data removed]"
          },
          "metadata": {}
        }
      ]
    },
    {
      "cell_type": "code",
      "source": [
        "# d)\n",
        "waic_full = az.waic(trace)\n",
        "loo_full = az.loo(trace)\n",
        "\n",
        "waic_reduced = az.waic(trace_reduced)\n",
        "loo_reduced = az.loo(trace_reduced)\n",
        "\n",
        "comparison = az.compare({\"Full Model (a)\": trace, \"Reduced Model (c)\": trace_reduced})\n",
        "\n",
        "print(\"WAIC și LOO pentru modelul complet:\")\n",
        "print(f\"WAIC: {waic_full}\")\n",
        "print(f\"LOO: {loo_full}\")\n",
        "print(\"\\nWAIC și LOO pentru modelul redus:\")\n",
        "print(f\"WAIC: {waic_reduced}\")\n",
        "print(f\"LOO: {loo_reduced}\")\n",
        "\n",
        "print(\"\\nComparare modele:\")\n",
        "print(comparison)\n"
      ],
      "metadata": {
        "colab": {
          "base_uri": "https://localhost:8080/",
          "height": 356
        },
        "id": "Sl3Y5jNg7uZY",
        "outputId": "277d0007-b733-46a7-a464-2b2c4ab0f5c6"
      },
      "execution_count": 23,
      "outputs": [
        {
          "output_type": "error",
          "ename": "TypeError",
          "evalue": "log likelihood not found in inference data object",
          "traceback": [
            "\u001b[0;31m---------------------------------------------------------------------------\u001b[0m",
            "\u001b[0;31mTypeError\u001b[0m                                 Traceback (most recent call last)",
            "\u001b[0;32m<ipython-input-23-f1d02980971e>\u001b[0m in \u001b[0;36m<cell line: 0>\u001b[0;34m()\u001b[0m\n\u001b[1;32m      1\u001b[0m \u001b[0;31m# Calcul WAIC și LOO pentru modelul complet (punctul a)\u001b[0m\u001b[0;34m\u001b[0m\u001b[0;34m\u001b[0m\u001b[0m\n\u001b[0;32m----> 2\u001b[0;31m \u001b[0mwaic_full\u001b[0m \u001b[0;34m=\u001b[0m \u001b[0maz\u001b[0m\u001b[0;34m.\u001b[0m\u001b[0mwaic\u001b[0m\u001b[0;34m(\u001b[0m\u001b[0mtrace\u001b[0m\u001b[0;34m)\u001b[0m\u001b[0;34m\u001b[0m\u001b[0;34m\u001b[0m\u001b[0m\n\u001b[0m\u001b[1;32m      3\u001b[0m \u001b[0mloo_full\u001b[0m \u001b[0;34m=\u001b[0m \u001b[0maz\u001b[0m\u001b[0;34m.\u001b[0m\u001b[0mloo\u001b[0m\u001b[0;34m(\u001b[0m\u001b[0mtrace\u001b[0m\u001b[0;34m)\u001b[0m\u001b[0;34m\u001b[0m\u001b[0;34m\u001b[0m\u001b[0m\n\u001b[1;32m      4\u001b[0m \u001b[0;34m\u001b[0m\u001b[0m\n\u001b[1;32m      5\u001b[0m \u001b[0;31m# Calcul WAIC și LOO pentru modelul redus (punctul c)\u001b[0m\u001b[0;34m\u001b[0m\u001b[0;34m\u001b[0m\u001b[0m\n",
            "\u001b[0;32m/usr/local/lib/python3.11/dist-packages/arviz/stats/stats.py\u001b[0m in \u001b[0;36mwaic\u001b[0;34m(data, pointwise, var_name, scale, dask_kwargs)\u001b[0m\n\u001b[1;32m   1619\u001b[0m     \"\"\"\n\u001b[1;32m   1620\u001b[0m     \u001b[0minference_data\u001b[0m \u001b[0;34m=\u001b[0m \u001b[0mconvert_to_inference_data\u001b[0m\u001b[0;34m(\u001b[0m\u001b[0mdata\u001b[0m\u001b[0;34m)\u001b[0m\u001b[0;34m\u001b[0m\u001b[0;34m\u001b[0m\u001b[0m\n\u001b[0;32m-> 1621\u001b[0;31m     \u001b[0mlog_likelihood\u001b[0m \u001b[0;34m=\u001b[0m \u001b[0m_get_log_likelihood\u001b[0m\u001b[0;34m(\u001b[0m\u001b[0minference_data\u001b[0m\u001b[0;34m,\u001b[0m \u001b[0mvar_name\u001b[0m\u001b[0;34m=\u001b[0m\u001b[0mvar_name\u001b[0m\u001b[0;34m)\u001b[0m\u001b[0;34m\u001b[0m\u001b[0;34m\u001b[0m\u001b[0m\n\u001b[0m\u001b[1;32m   1622\u001b[0m     \u001b[0mscale\u001b[0m \u001b[0;34m=\u001b[0m \u001b[0mrcParams\u001b[0m\u001b[0;34m[\u001b[0m\u001b[0;34m\"stats.ic_scale\"\u001b[0m\u001b[0;34m]\u001b[0m \u001b[0;32mif\u001b[0m \u001b[0mscale\u001b[0m \u001b[0;32mis\u001b[0m \u001b[0;32mNone\u001b[0m \u001b[0;32melse\u001b[0m \u001b[0mscale\u001b[0m\u001b[0;34m.\u001b[0m\u001b[0mlower\u001b[0m\u001b[0;34m(\u001b[0m\u001b[0;34m)\u001b[0m\u001b[0;34m\u001b[0m\u001b[0;34m\u001b[0m\u001b[0m\n\u001b[1;32m   1623\u001b[0m     \u001b[0mpointwise\u001b[0m \u001b[0;34m=\u001b[0m \u001b[0mrcParams\u001b[0m\u001b[0;34m[\u001b[0m\u001b[0;34m\"stats.ic_pointwise\"\u001b[0m\u001b[0;34m]\u001b[0m \u001b[0;32mif\u001b[0m \u001b[0mpointwise\u001b[0m \u001b[0;32mis\u001b[0m \u001b[0;32mNone\u001b[0m \u001b[0;32melse\u001b[0m \u001b[0mpointwise\u001b[0m\u001b[0;34m\u001b[0m\u001b[0;34m\u001b[0m\u001b[0m\n",
            "\u001b[0;32m/usr/local/lib/python3.11/dist-packages/arviz/stats/stats_utils.py\u001b[0m in \u001b[0;36mget_log_likelihood\u001b[0;34m(idata, var_name, single_var)\u001b[0m\n\u001b[1;32m    427\u001b[0m         \u001b[0;32mreturn\u001b[0m \u001b[0midata\u001b[0m\u001b[0;34m.\u001b[0m\u001b[0msample_stats\u001b[0m\u001b[0;34m.\u001b[0m\u001b[0mlog_likelihood\u001b[0m\u001b[0;34m\u001b[0m\u001b[0;34m\u001b[0m\u001b[0m\n\u001b[1;32m    428\u001b[0m     \u001b[0;32mif\u001b[0m \u001b[0;32mnot\u001b[0m \u001b[0mhasattr\u001b[0m\u001b[0;34m(\u001b[0m\u001b[0midata\u001b[0m\u001b[0;34m,\u001b[0m \u001b[0;34m\"log_likelihood\"\u001b[0m\u001b[0;34m)\u001b[0m\u001b[0;34m:\u001b[0m\u001b[0;34m\u001b[0m\u001b[0;34m\u001b[0m\u001b[0m\n\u001b[0;32m--> 429\u001b[0;31m         \u001b[0;32mraise\u001b[0m \u001b[0mTypeError\u001b[0m\u001b[0;34m(\u001b[0m\u001b[0;34m\"log likelihood not found in inference data object\"\u001b[0m\u001b[0;34m)\u001b[0m\u001b[0;34m\u001b[0m\u001b[0;34m\u001b[0m\u001b[0m\n\u001b[0m\u001b[1;32m    430\u001b[0m     \u001b[0;32mif\u001b[0m \u001b[0mvar_name\u001b[0m \u001b[0;32mis\u001b[0m \u001b[0;32mNone\u001b[0m\u001b[0;34m:\u001b[0m\u001b[0;34m\u001b[0m\u001b[0;34m\u001b[0m\u001b[0m\n\u001b[1;32m    431\u001b[0m         \u001b[0mvar_names\u001b[0m \u001b[0;34m=\u001b[0m \u001b[0mlist\u001b[0m\u001b[0;34m(\u001b[0m\u001b[0midata\u001b[0m\u001b[0;34m.\u001b[0m\u001b[0mlog_likelihood\u001b[0m\u001b[0;34m.\u001b[0m\u001b[0mdata_vars\u001b[0m\u001b[0;34m)\u001b[0m\u001b[0;34m\u001b[0m\u001b[0;34m\u001b[0m\u001b[0m\n",
            "\u001b[0;31mTypeError\u001b[0m: log likelihood not found in inference data object"
          ]
        }
      ]
    },
    {
      "cell_type": "markdown",
      "source": [
        "### 2."
      ],
      "metadata": {
        "id": "SJdkKgFHqKUN"
      }
    },
    {
      "cell_type": "code",
      "source": [
        "data = pd.read_csv(\"iris.csv\")\n",
        "\n",
        "print(data.head())\n",
        "\n",
        "features = [\"sepal_length\", \"sepal_width\", \"petal_length\", \"petal_width\"]\n",
        "\n",
        "for feature in features:\n",
        "    print(f\"Analizăm caracteristica: {feature}\")\n",
        "\n",
        "    values = data[feature].values\n",
        "\n",
        "    with pm.Model() as model:\n",
        "        weights = pm.Dirichlet(\"weights\", a=np.ones(3))\n",
        "\n",
        "        means = pm.Normal(\"means\", mu=np.mean(values), sigma=5, shape=3)\n",
        "        sds = pm.HalfNormal(\"sds\", sigma=2, shape=3)\n",
        "\n",
        "        components = pm.Normal.dist(mu=means, sigma=sds, shape=(3,))\n",
        "        mixture = pm.Mixture(\"mixture\", w=weights, comp_dists=components, observed=values)\n",
        "\n",
        "        trace = pm.sample(1000, tune=500, return_inferencedata=True)\n",
        "\n",
        "    print(pm.summary(trace, var_names=[\"weights\", \"means\", \"sds\"]))\n",
        "\n",
        "    plt.figure(figsize=(8, 6))\n",
        "    plt.hist(values, bins=20, density=True, alpha=0.5, label=f\"Observații ({feature})\")\n",
        "    for i in range(3):\n",
        "        plt.plot(\n",
        "            np.linspace(values.min(), values.max(), 100),\n",
        "            pm.Normal.dist(\n",
        "                mu=trace.posterior[\"means\"].mean((\"chain\", \"draw\")).values[i],\n",
        "                sigma=trace.posterior[\"sds\"].mean((\"chain\", \"draw\")).values[i]\n",
        "            ).logp(np.linspace(values.min(), values.max(), 100)).eval(),\n",
        "            label=f\"Componenta {i+1}\"\n",
        "        )\n",
        "    plt.title(f\"Distribuția mixtă pentru {feature}\")\n",
        "    plt.legend()\n",
        "    plt.show()"
      ],
      "metadata": {
        "colab": {
          "base_uri": "https://localhost:8080/",
          "height": 1000,
          "referenced_widgets": [
            "0f9037f52c2d4381a4657dd26b90a1aa",
            "75b79fde55214777bf49dd1afc018244",
            "afe61f87871e49d8be8215c7923715b8",
            "96d0b68f90b945d2ad6e697a74b80401"
          ]
        },
        "id": "7PH5f-D9qXV8",
        "outputId": "578f2204-b886-49c7-8c2c-435f5f87e1cf"
      },
      "execution_count": 26,
      "outputs": [
        {
          "output_type": "stream",
          "name": "stdout",
          "text": [
            "   sepal_length  sepal_width  petal_length  petal_width species\n",
            "0           5.1          3.5           1.4          0.2  setosa\n",
            "1           4.9          3.0           1.4          0.2  setosa\n",
            "2           4.7          3.2           1.3          0.2  setosa\n",
            "3           4.6          3.1           1.5          0.2  setosa\n",
            "4           5.0          3.6           1.4          0.2  setosa\n",
            "Analizăm caracteristica: sepal_length\n"
          ]
        },
        {
          "output_type": "display_data",
          "data": {
            "text/plain": [
              "Output()"
            ],
            "application/vnd.jupyter.widget-view+json": {
              "version_major": 2,
              "version_minor": 0,
              "model_id": "0f9037f52c2d4381a4657dd26b90a1aa"
            }
          },
          "metadata": {}
        },
        {
          "output_type": "display_data",
          "data": {
            "text/plain": [],
            "text/html": [
              "<pre style=\"white-space:pre;overflow-x:auto;line-height:normal;font-family:Menlo,'DejaVu Sans Mono',consolas,'Courier New',monospace\"></pre>\n"
            ]
          },
          "metadata": {}
        },
        {
          "output_type": "display_data",
          "data": {
            "text/plain": [
              "Output()"
            ],
            "application/vnd.jupyter.widget-view+json": {
              "version_major": 2,
              "version_minor": 0,
              "model_id": "afe61f87871e49d8be8215c7923715b8"
            }
          },
          "metadata": {}
        },
        {
          "output_type": "display_data",
          "data": {
            "text/plain": [],
            "text/html": [
              "<pre style=\"white-space:pre;overflow-x:auto;line-height:normal;font-family:Menlo,'DejaVu Sans Mono',consolas,'Courier New',monospace\"></pre>\n"
            ]
          },
          "metadata": {}
        },
        {
          "output_type": "stream",
          "name": "stderr",
          "text": [
            "ERROR:pymc.stats.convergence:There were 472 divergences after tuning. Increase `target_accept` or reparameterize.\n",
            "WARNING:pymc.stats.convergence:Chain 0 reached the maximum tree depth. Increase `max_treedepth`, increase `target_accept` or reparameterize.\n",
            "ERROR:pymc.stats.convergence:The effective sample size per chain is smaller than 100 for some parameters.  A higher number is needed for reliable rhat and ess computation. See https://arxiv.org/abs/1903.08008 for details\n"
          ]
        },
        {
          "output_type": "stream",
          "name": "stdout",
          "text": [
            "             mean     sd  hdi_3%  hdi_97%  mcse_mean  mcse_sd  ess_bulk  \\\n",
            "weights[0]  0.246  0.177   0.000    0.633      0.034    0.035      47.0   \n",
            "weights[1]  0.192  0.233   0.000    0.708      0.106    0.080       6.0   \n",
            "weights[2]  0.562  0.283   0.005    0.769      0.149    0.119       5.0   \n",
            "means[0]    6.040  2.166   4.589    7.037      0.446    0.319       4.0   \n",
            "means[1]    6.162  1.238   4.788    6.909      0.355    0.378       5.0   \n",
            "means[2]    5.781  1.033   4.751    6.968      0.056    0.049     110.0   \n",
            "sds[0]      0.845  0.452   0.122    1.053      0.084    0.060       5.0   \n",
            "sds[1]      0.290  0.392   0.000    0.838      0.214    0.167       3.0   \n",
            "sds[2]      0.679  0.263   0.199    0.932      0.015    0.010     113.0   \n",
            "\n",
            "            ess_tail  r_hat  \n",
            "weights[0]      34.0   1.87  \n",
            "weights[1]      79.0   1.99  \n",
            "weights[2]     148.0   2.01  \n",
            "means[0]        44.0   1.99  \n",
            "means[1]        71.0   1.86  \n",
            "means[2]        61.0   1.95  \n",
            "sds[0]          42.0   2.23  \n",
            "sds[1]          14.0   2.06  \n",
            "sds[2]         117.0   1.87  \n"
          ]
        },
        {
          "output_type": "error",
          "ename": "AttributeError",
          "evalue": "'TensorVariable' object has no attribute 'logp'",
          "traceback": [
            "\u001b[0;31m---------------------------------------------------------------------------\u001b[0m",
            "\u001b[0;31mAttributeError\u001b[0m                            Traceback (most recent call last)",
            "\u001b[0;32m<ipython-input-26-a34c85d78ee0>\u001b[0m in \u001b[0;36m<cell line: 0>\u001b[0;34m()\u001b[0m\n\u001b[1;32m     42\u001b[0m                 \u001b[0mmu\u001b[0m\u001b[0;34m=\u001b[0m\u001b[0mtrace\u001b[0m\u001b[0;34m.\u001b[0m\u001b[0mposterior\u001b[0m\u001b[0;34m[\u001b[0m\u001b[0;34m\"means\"\u001b[0m\u001b[0;34m]\u001b[0m\u001b[0;34m.\u001b[0m\u001b[0mmean\u001b[0m\u001b[0;34m(\u001b[0m\u001b[0;34m(\u001b[0m\u001b[0;34m\"chain\"\u001b[0m\u001b[0;34m,\u001b[0m \u001b[0;34m\"draw\"\u001b[0m\u001b[0;34m)\u001b[0m\u001b[0;34m)\u001b[0m\u001b[0;34m.\u001b[0m\u001b[0mvalues\u001b[0m\u001b[0;34m[\u001b[0m\u001b[0mi\u001b[0m\u001b[0;34m]\u001b[0m\u001b[0;34m,\u001b[0m\u001b[0;34m\u001b[0m\u001b[0;34m\u001b[0m\u001b[0m\n\u001b[1;32m     43\u001b[0m                 \u001b[0msigma\u001b[0m\u001b[0;34m=\u001b[0m\u001b[0mtrace\u001b[0m\u001b[0;34m.\u001b[0m\u001b[0mposterior\u001b[0m\u001b[0;34m[\u001b[0m\u001b[0;34m\"sds\"\u001b[0m\u001b[0;34m]\u001b[0m\u001b[0;34m.\u001b[0m\u001b[0mmean\u001b[0m\u001b[0;34m(\u001b[0m\u001b[0;34m(\u001b[0m\u001b[0;34m\"chain\"\u001b[0m\u001b[0;34m,\u001b[0m \u001b[0;34m\"draw\"\u001b[0m\u001b[0;34m)\u001b[0m\u001b[0;34m)\u001b[0m\u001b[0;34m.\u001b[0m\u001b[0mvalues\u001b[0m\u001b[0;34m[\u001b[0m\u001b[0mi\u001b[0m\u001b[0;34m]\u001b[0m\u001b[0;34m\u001b[0m\u001b[0;34m\u001b[0m\u001b[0m\n\u001b[0;32m---> 44\u001b[0;31m             ).logp(np.linspace(values.min(), values.max(), 100)).eval(),\n\u001b[0m\u001b[1;32m     45\u001b[0m             \u001b[0mlabel\u001b[0m\u001b[0;34m=\u001b[0m\u001b[0;34mf\"Componenta {i+1}\"\u001b[0m\u001b[0;34m\u001b[0m\u001b[0;34m\u001b[0m\u001b[0m\n\u001b[1;32m     46\u001b[0m         )\n",
            "\u001b[0;31mAttributeError\u001b[0m: 'TensorVariable' object has no attribute 'logp'"
          ]
        },
        {
          "output_type": "display_data",
          "data": {
            "text/plain": [
              "<Figure size 800x600 with 1 Axes>"
            ],
            "image/png": "[encoded data removed]"
          },
          "metadata": {}
        }
      ]
    },
    {
      "cell_type": "code",
      "source": [
        "# Caracteristica ce separă cel mai bine datele este determinată prin:\n",
        "# - Mediile estimate ale componentelor: cele mai distincte indică o separare mai buna.\n",
        "# - Deviatii standard mici: arata suprapuneri minime între grupele identificate.\n",
        "# - Vizualizarea clustering-ului: grupe bine delimitate în grafice sugerează separare optimă.\n",
        "# - Scorul Silhouette: un scor mai mare indică separare optimă între grupe.\n",
        "\n",
        "# În setul de date Iris, de obicei, petal_length și petal_width separă cel mai bine speciile."
      ],
      "metadata": {
        "id": "LirJOfKJAKH2"
      },
      "execution_count": null,
      "outputs": []
    }
  ]
}